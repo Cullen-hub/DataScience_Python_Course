{
  "nbformat": 4,
  "nbformat_minor": 0,
  "metadata": {
    "colab": {
      "provenance": [],
      "authorship_tag": "ABX9TyPRdwAVFHSwbwEyXDXSS+9Y",
      "include_colab_link": true
    },
    "kernelspec": {
      "name": "python3",
      "display_name": "Python 3"
    },
    "language_info": {
      "name": "python"
    }
  },
  "cells": [
    {
      "cell_type": "markdown",
      "metadata": {
        "id": "view-in-github",
        "colab_type": "text"
      },
      "source": [
        "<a href=\"https://colab.research.google.com/github/Cullen-hub/DataScience_Python_Course/blob/main/DataScience_Python_Project.ipynb\" target=\"_parent\"><img src=\"https://colab.research.google.com/assets/colab-badge.svg\" alt=\"Open In Colab\"/></a>"
      ]
    },
    {
      "cell_type": "code",
      "execution_count": 1,
      "metadata": {
        "colab": {
          "base_uri": "https://localhost:8080/"
        },
        "id": "E9n2BvMwCR5U",
        "outputId": "70530ee8-f0e7-421f-f56a-7511097cac8f"
      },
      "outputs": [
        {
          "output_type": "stream",
          "name": "stdout",
          "text": [
            "Cloning into 'DataScience_Python_Course'...\n",
            "remote: Enumerating objects: 39, done.\u001b[K\n",
            "remote: Counting objects: 100% (22/22), done.\u001b[K\n",
            "remote: Compressing objects: 100% (17/17), done.\u001b[K\n",
            "remote: Total 39 (delta 9), reused 5 (delta 5), pack-reused 17 (from 1)\u001b[K\n",
            "Receiving objects: 100% (39/39), 10.34 KiB | 2.59 MiB/s, done.\n",
            "Resolving deltas: 100% (11/11), done.\n",
            "/content/DataScience_Python_Course\n"
          ]
        }
      ],
      "source": [
        "!git clone https://github.com/Cullen-hub/DataScience_Python_Course.git\n",
        "%cd DataScience_Python_Course"
      ]
    }
  ]
}