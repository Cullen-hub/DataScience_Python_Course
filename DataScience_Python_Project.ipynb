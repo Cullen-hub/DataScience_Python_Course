{
  "nbformat": 4,
  "nbformat_minor": 0,
  "metadata": {
    "colab": {
      "provenance": [],
      "authorship_tag": "ABX9TyOJPNTHDHw9IBtRK9A1GJiM",
      "include_colab_link": true
    },
    "kernelspec": {
      "name": "python3",
      "display_name": "Python 3"
    },
    "language_info": {
      "name": "python"
    }
  },
  "cells": [
    {
      "cell_type": "markdown",
      "metadata": {
        "id": "view-in-github",
        "colab_type": "text"
      },
      "source": [
        "<a href=\"https://colab.research.google.com/github/Cullen-hub/DataScience_Python_Course/blob/main/DataScience_Python_Project.ipynb\" target=\"_parent\"><img src=\"https://colab.research.google.com/assets/colab-badge.svg\" alt=\"Open In Colab\"/></a>"
      ]
    },
    {
      "cell_type": "code",
      "execution_count": 3,
      "metadata": {
        "colab": {
          "base_uri": "https://localhost:8080/"
        },
        "id": "E9n2BvMwCR5U",
        "outputId": "4d6dd159-7ade-4acd-e5e5-9279f8f98ea8"
      },
      "outputs": [
        {
          "output_type": "stream",
          "name": "stdout",
          "text": [
            "Cloning into 'DataScience_Python_Course'...\n",
            "remote: Enumerating objects: 48, done.\u001b[K\n",
            "remote: Counting objects: 100% (28/28), done.\u001b[K\n",
            "remote: Compressing objects: 100% (23/23), done.\u001b[K\n",
            "remote: Total 48 (delta 11), reused 5 (delta 5), pack-reused 20 (from 2)\u001b[K\n",
            "Receiving objects: 100% (48/48), 14.84 KiB | 1.48 MiB/s, done.\n",
            "Resolving deltas: 100% (13/13), done.\n",
            "/content/DataScience_Python_Course\n"
          ]
        }
      ],
      "source": [
        "!git clone https://github.com/Cullen-hub/DataScience_Python_Course.git\n",
        "%cd DataScience_Python_Course"
      ]
    },
    {
      "cell_type": "code",
      "source": [
        "%%writefile mean_var_std.py\n",
        "import numpy as np\n",
        "\n",
        "def calculate(list):\n",
        "\n",
        "  if len(list) != 9:\n",
        "    raise ValueError(\"List must contain nine numbers.\")\n",
        "\n",
        "  numpy_array = np.array(list)\n",
        "  numpy_array = numpy_array.reshape((3,3))\n",
        "\n",
        "  #method 1\n",
        "  mean_axis1 = np.mean(numpy_array, axis=0).tolist()\n",
        "  mean_axis2 = np.mean(numpy_array, axis=1).tolist()\n",
        "  mean_flat = np.mean(numpy_array).item()\n",
        "  var_axis1 = np.var(numpy_array, axis=0).tolist()\n",
        "  var_axis2 = np.var(numpy_array, axis=1).tolist()\n",
        "  var_flat = np.var(numpy_array).item()\n",
        "  std_axis1 = np.std(numpy_array, axis=0).tolist()\n",
        "  std_axis2 = np.std(numpy_array, axis=1).tolist()\n",
        "  std_flat = np.std(numpy_array).item()\n",
        "  max_axis1 = np.max(numpy_array, axis=0).tolist()\n",
        "  max_axis2 = np.max(numpy_array, axis=1).tolist()\n",
        "  max_flat = np.max(numpy_array).item()\n",
        "  min_axis1 = np.min(numpy_array, axis=0).tolist()\n",
        "  min_axis2 = np.min(numpy_array, axis=1).tolist()\n",
        "  min_flat = np.min(numpy_array).item()\n",
        "  sum_axis1 = np.sum(numpy_array, axis=0).tolist()\n",
        "  sum_axis2 = np.sum(numpy_array, axis=1).tolist()\n",
        "  sum_flat = np.sum(numpy_array).item()\n",
        "\n",
        "  calculations = {'mean': [mean_axis1,mean_axis2,mean_flat],\n",
        "                    'variance':[var_axis1,var_axis2,var_flat],\n",
        "                    'standard deviation': [std_axis1, std_axis2, std_flat],\n",
        "                    'max': [max_axis1,max_axis2,max_flat],\n",
        "                    'min': [min_axis1, min_axis2, min_flat],\n",
        "                    'sum': [sum_axis1, sum_axis2, sum_flat]}\n",
        "    #method 2\n",
        "  calculations = {}\n",
        "  Statistics = {\n",
        "     'mean': np.mean,\n",
        "     'variance': np.var,\n",
        "     'standard deviation': np.std,\n",
        "     'max': np.max,\n",
        "     'min': np.min,\n",
        "     'sum': np.sum,\n",
        "    }\n",
        "  for name, oparation in Statistics.items():\n",
        "      calculations[name] = [oparation(numpy_array, axis = 0).tolist(), oparation(numpy_array, axis = 1).tolist(), oparation(numpy_array).item()]\n",
        "\n",
        "\n",
        "\n",
        "  return calculations"
      ],
      "metadata": {
        "colab": {
          "base_uri": "https://localhost:8080/"
        },
        "id": "z5j8jC0PJ0xq",
        "outputId": "51b927c5-b4c8-4b5e-c608-79c17379ae42"
      },
      "execution_count": 15,
      "outputs": [
        {
          "output_type": "stream",
          "name": "stdout",
          "text": [
            "Overwriting mean_var_std.py\n"
          ]
        }
      ]
    },
    {
      "cell_type": "code",
      "source": [
        "!python main.py"
      ],
      "metadata": {
        "colab": {
          "base_uri": "https://localhost:8080/"
        },
        "id": "dConT8qgKnCE",
        "outputId": "39c4c563-a453-42df-d876-6f7a93f7e448"
      },
      "execution_count": 16,
      "outputs": [
        {
          "output_type": "stream",
          "name": "stdout",
          "text": [
            "{'mean': [[3.0, 4.0, 5.0], [1.0, 4.0, 7.0], 4.0], 'variance': [[6.0, 6.0, 6.0], [0.6666666666666666, 0.6666666666666666, 0.6666666666666666], 6.666666666666667], 'standard deviation': [[2.449489742783178, 2.449489742783178, 2.449489742783178], [0.816496580927726, 0.816496580927726, 0.816496580927726], 2.581988897471611], 'max': [[6, 7, 8], [2, 5, 8], 8], 'min': [[0, 1, 2], [0, 3, 6], 0], 'sum': [[9, 12, 15], [3, 12, 21], 36]}\n",
            "...\n",
            "----------------------------------------------------------------------\n",
            "Ran 3 tests in 0.001s\n",
            "\n",
            "OK\n"
          ]
        }
      ]
    }
  ]
}